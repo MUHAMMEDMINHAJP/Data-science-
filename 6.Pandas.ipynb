{
 "cells": [
  {
   "cell_type": "code",
   "execution_count": 5,
   "metadata": {},
   "outputs": [
    {
     "name": "stdout",
     "output_type": "stream",
     "text": [
      "                         Industry\n",
      "0              Accounting/Finance\n",
      "1    Advertising/Public Relations\n",
      "2              Aerospace/Aviation\n",
      "3   Arts/Entertainment/Publishing\n",
      "4                      Automotive\n",
      "5                Banking/Mortgage\n",
      "6            Business Development\n",
      "7            Business Opportunity\n",
      "8         Clerical/Administrative\n",
      "9         Construction/Facilities\n",
      "10                 Consumer Goods\n",
      "11               Customer Service\n",
      "12             Education/Training\n",
      "13               Energy/Utilities\n",
      "14                    Engineering\n",
      "15            Government/Military\n",
      "16                          Green\n",
      "17                     Healthcare\n",
      "18             Hospitality/Travel\n",
      "19                Human Resources\n",
      "20       Installation/Maintenance\n",
      "21                      Insurance\n",
      "22                       Internet\n",
      "23                Job Search Aids\n",
      "24       Law Enforcement/Security\n",
      "25                          Legal\n",
      "26           Management/Executive\n",
      "27       Manufacturing/Operations\n",
      "28                      Marketing\n",
      "29           Non-Profit/Volunteer\n",
      "30         Pharmaceutical/Biotech\n",
      "31          Professional Services\n",
      "32             QA/Quality Control\n",
      "33                    Real Estate\n",
      "34        Restaurant/Food Service\n",
      "35                         Retail\n",
      "36                          Sales\n",
      "37               Science/Research\n",
      "38                  Skilled Labor\n",
      "39                     Technology\n",
      "40             Telecommunications\n",
      "41       Transportation/Logistics\n",
      "42                          Other\n",
      "\n",
      "head:                         Industry\n",
      "0             Accounting/Finance\n",
      "1   Advertising/Public Relations\n",
      "2             Aerospace/Aviation\n",
      "3  Arts/Entertainment/Publishing\n",
      "4                     Automotive\n",
      "\n",
      "tail:                     Industry\n",
      "38             Skilled Labor\n",
      "39                Technology\n",
      "40        Telecommunications\n",
      "41  Transportation/Logistics\n",
      "42                     Other\n"
     ]
    }
   ],
   "source": [
    "import pandas as pd\n",
    "\n",
    "df = pd.read_csv('industry.csv')\n",
    "\n",
    "print(df.to_string()) \n",
    "\n",
    "print(\"\\nhead:\",df.head())\n",
    "print(\"\\ntail:\",df.tail())"
   ]
  },
  {
   "cell_type": "code",
   "execution_count": 6,
   "metadata": {},
   "outputs": [
    {
     "name": "stdout",
     "output_type": "stream",
     "text": [
      "False\n",
      "                         Industry\n",
      "0              Accounting/Finance\n",
      "1    Advertising/Public Relations\n",
      "2              Aerospace/Aviation\n",
      "3   Arts/Entertainment/Publishing\n",
      "4                      Automotive\n",
      "5                Banking/Mortgage\n",
      "6            Business Development\n",
      "7            Business Opportunity\n",
      "8         Clerical/Administrative\n",
      "9         Construction/Facilities\n",
      "10                 Consumer Goods\n",
      "11               Customer Service\n",
      "12             Education/Training\n",
      "13               Energy/Utilities\n",
      "14                    Engineering\n",
      "15            Government/Military\n",
      "16                          Green\n",
      "17                     Healthcare\n",
      "18             Hospitality/Travel\n",
      "19                Human Resources\n",
      "20       Installation/Maintenance\n",
      "21                      Insurance\n",
      "22                       Internet\n",
      "23                Job Search Aids\n",
      "24       Law Enforcement/Security\n",
      "25                          Legal\n",
      "26           Management/Executive\n",
      "27       Manufacturing/Operations\n",
      "28                      Marketing\n",
      "29           Non-Profit/Volunteer\n",
      "30         Pharmaceutical/Biotech\n",
      "31          Professional Services\n",
      "32             QA/Quality Control\n",
      "33                    Real Estate\n",
      "34        Restaurant/Food Service\n",
      "35                         Retail\n",
      "36                          Sales\n",
      "37               Science/Research\n",
      "38                  Skilled Labor\n",
      "39                     Technology\n",
      "40             Telecommunications\n",
      "41       Transportation/Logistics\n",
      "42                          Other\n"
     ]
    }
   ],
   "source": [
    "b=df.duplicated().any()\n",
    "print(b)\n",
    "c=df.drop_duplicates()\n",
    "print(c)"
   ]
  },
  {
   "cell_type": "code",
   "execution_count": null,
   "metadata": {
    "collapsed": true
   },
   "outputs": [],
   "source": []
  }
 ],
 "metadata": {
  "kernelspec": {
   "display_name": "Python 3",
   "language": "python",
   "name": "python3"
  },
  "language_info": {
   "codemirror_mode": {
    "name": "ipython",
    "version": 3
   },
   "file_extension": ".py",
   "mimetype": "text/x-python",
   "name": "python",
   "nbconvert_exporter": "python",
   "pygments_lexer": "ipython3",
   "version": "3.6.3"
  }
 },
 "nbformat": 4,
 "nbformat_minor": 2
}
