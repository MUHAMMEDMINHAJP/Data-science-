{
 "cells": [
  {
   "cell_type": "code",
   "execution_count": 17,
   "metadata": {},
   "outputs": [
    {
     "name": "stdout",
     "output_type": "stream",
     "text": [
      "------------select any option-------\n",
      " \n",
      "\n",
      "1.Addition\n",
      "\n",
      "2.Substraction\n",
      "\n",
      "3.Multiplication\n",
      "\n",
      "4.Division\n",
      "choose any option : 4\n",
      "enter the first number : 5\n",
      "enter the second number : 0\n",
      "cannot be divisible by zero\n"
     ]
    }
   ],
   "source": [
    "print(\"------------select any option-------\\n \")\n",
    "print(\"\\n1.Addition\")\n",
    "print(\"\\n2.Substraction\")\n",
    "print(\"\\n3.Multiplication\")\n",
    "print(\"\\n4.Division\")\n",
    "opt=int(input(\"choose any option : \"))\n",
    "a=float(input(\"enter the first number : \"))\n",
    "b=float(input(\"enter the second number : \"))\n",
    "if(opt==1):\n",
    "    print(\"\\nAddition :%.2f\"%(a+b))\n",
    "elif(opt==2):\n",
    "    print(\"\\nSubstraction :%.2f\"%(a-b))\n",
    "elif(opt==3):\n",
    "    print(\"\\nMultiplication :%.2f\"%(a*b))\n",
    "elif(opt==4):\n",
    "    if(b==0):\n",
    "        print(\"cannot be divisible by zero\")\n",
    "    else:\n",
    "        print(\"\\nDivision :%.2f\"%(a/b))\n",
    "\n",
    "else:\n",
    "    print(\"INVALID OPTION \")"
   ]
  },
  {
   "cell_type": "code",
   "execution_count": null,
   "metadata": {
    "collapsed": true
   },
   "outputs": [],
   "source": []
  },
  {
   "cell_type": "code",
   "execution_count": null,
   "metadata": {
    "collapsed": true
   },
   "outputs": [],
   "source": []
  }
 ],
 "metadata": {
  "kernelspec": {
   "display_name": "Python 3",
   "language": "python",
   "name": "python3"
  },
  "language_info": {
   "codemirror_mode": {
    "name": "ipython",
    "version": 3
   },
   "file_extension": ".py",
   "mimetype": "text/x-python",
   "name": "python",
   "nbconvert_exporter": "python",
   "pygments_lexer": "ipython3",
   "version": "3.6.3"
  }
 },
 "nbformat": 4,
 "nbformat_minor": 2
}
